{
 "cells": [
  {
   "cell_type": "code",
   "execution_count": 1,
   "id": "8f4f8f42",
   "metadata": {
    "_cell_guid": "b1076dfc-b9ad-4769-8c92-a6c4dae69d19",
    "_uuid": "8f2839f25d086af736a60e9eeb907d3b93b6e0e5",
    "execution": {
     "iopub.execute_input": "2024-09-12T19:05:43.502225Z",
     "iopub.status.busy": "2024-09-12T19:05:43.501340Z",
     "iopub.status.idle": "2024-09-12T19:05:58.407385Z",
     "shell.execute_reply": "2024-09-12T19:05:58.406589Z"
    },
    "papermill": {
     "duration": 14.915683,
     "end_time": "2024-09-12T19:05:58.409751",
     "exception": false,
     "start_time": "2024-09-12T19:05:43.494068",
     "status": "completed"
    },
    "tags": []
   },
   "outputs": [],
   "source": [
    "import numpy as np\n",
    "import os\n",
    "import cv2\n",
    "from sklearn.model_selection import train_test_split\n",
    "import tensorflow as tf\n",
    "from tensorflow.keras import layers, models\n",
    "import matplotlib.pyplot as plt\n",
    "import pandas as pd\n",
    "import rasterio\n",
    "from tensorflow.keras.layers import Conv2D, Input, UpSampling2D, concatenate,Dropout\n",
    "from tensorflow.keras.models import Model\n",
    "import tensorflow.keras.applications as apps"
   ]
  },
  {
   "cell_type": "code",
   "execution_count": 2,
   "id": "5ffb96fc",
   "metadata": {
    "execution": {
     "iopub.execute_input": "2024-09-12T19:05:58.422040Z",
     "iopub.status.busy": "2024-09-12T19:05:58.421044Z",
     "iopub.status.idle": "2024-09-12T19:05:58.425641Z",
     "shell.execute_reply": "2024-09-12T19:05:58.424637Z"
    },
    "papermill": {
     "duration": 0.012546,
     "end_time": "2024-09-12T19:05:58.427649",
     "exception": false,
     "start_time": "2024-09-12T19:05:58.415103",
     "status": "completed"
    },
    "tags": []
   },
   "outputs": [],
   "source": [
    "image_dir = '/kaggle/input/waterset/data/images'\n",
    "label_dir = '/kaggle/input/waterset/data/labels'"
   ]
  },
  {
   "cell_type": "code",
   "execution_count": 3,
   "id": "001eeb27",
   "metadata": {
    "execution": {
     "iopub.execute_input": "2024-09-12T19:05:58.438606Z",
     "iopub.status.busy": "2024-09-12T19:05:58.438289Z",
     "iopub.status.idle": "2024-09-12T19:06:04.546429Z",
     "shell.execute_reply": "2024-09-12T19:06:04.545485Z"
    },
    "papermill": {
     "duration": 6.11613,
     "end_time": "2024-09-12T19:06:04.548745",
     "exception": false,
     "start_time": "2024-09-12T19:05:58.432615",
     "status": "completed"
    },
    "tags": []
   },
   "outputs": [
    {
     "name": "stderr",
     "output_type": "stream",
     "text": [
      "/opt/conda/lib/python3.10/site-packages/rasterio/__init__.py:304: NotGeoreferencedWarning: Dataset has no geotransform, gcps, or rpcs. The identity matrix will be returned.\n",
      "  dataset = DatasetReader(path, driver=driver, sharing=sharing, **kwargs)\n"
     ]
    },
    {
     "name": "stdout",
     "output_type": "stream",
     "text": [
      "x_train shape: (306, 128, 128, 12)\n",
      "y_train shape: (306, 128, 128, 1)\n"
     ]
    }
   ],
   "source": [
    "\n",
    "images = []\n",
    "labels = []\n",
    "\n",
    "\n",
    "for filename in os.listdir(image_dir):\n",
    "    img_path = os.path.join(image_dir, filename)\n",
    "    label_path = os.path.join(label_dir, filename.replace('.tif', '.png'))\n",
    "\n",
    "    # Read multi-channel TIFF image using rasterio\n",
    "    with rasterio.open(img_path) as src:\n",
    "        img = src.read()  # Read all channels\n",
    "        img = np.moveaxis(img, 0, -1)  # Move channel axis to the end\n",
    "\n",
    "    if img is None:\n",
    "        print(f\"Failed to load image: {img_path}\")\n",
    "        continue\n",
    "\n",
    "    # Normalize image (assumes data is in range [0, 255])\n",
    "    img = img / 255.0\n",
    "\n",
    "    # Read grayscale label image using OpenCV\n",
    "    label = cv2.imread(label_path, cv2.IMREAD_GRAYSCALE)\n",
    "    if label is None:\n",
    "        print(f\"Failed to load label: {label_path}\")\n",
    "        continue\n",
    "\n",
    "    # Binarize label\n",
    "    label_binary = (label > 0).astype(np.uint8)\n",
    "\n",
    "    # Append to lists\n",
    "    images.append(img)\n",
    "    labels.append(label_binary)\n",
    "\n",
    "x = np.array(images)\n",
    "y = np.array(labels)\n",
    "y = np.expand_dims(y, axis=-1)  \n",
    "\n",
    "print(\"x_train shape:\", x.shape)\n",
    "print(\"y_train shape:\", y.shape)"
   ]
  },
  {
   "cell_type": "code",
   "execution_count": 4,
   "id": "f7280ab3",
   "metadata": {
    "execution": {
     "iopub.execute_input": "2024-09-12T19:06:04.560495Z",
     "iopub.status.busy": "2024-09-12T19:06:04.560186Z",
     "iopub.status.idle": "2024-09-12T19:06:04.710497Z",
     "shell.execute_reply": "2024-09-12T19:06:04.709471Z"
    },
    "papermill": {
     "duration": 0.158733,
     "end_time": "2024-09-12T19:06:04.712810",
     "exception": false,
     "start_time": "2024-09-12T19:06:04.554077",
     "status": "completed"
    },
    "tags": []
   },
   "outputs": [],
   "source": [
    "x_train, x_test, y_train, y_test = train_test_split(x, y, test_size=0.3, random_state=42)"
   ]
  },
  {
   "cell_type": "code",
   "execution_count": 5,
   "id": "f456bd1d",
   "metadata": {
    "execution": {
     "iopub.execute_input": "2024-09-12T19:06:04.725188Z",
     "iopub.status.busy": "2024-09-12T19:06:04.724399Z",
     "iopub.status.idle": "2024-09-12T19:06:04.855473Z",
     "shell.execute_reply": "2024-09-12T19:06:04.854487Z"
    },
    "papermill": {
     "duration": 0.139464,
     "end_time": "2024-09-12T19:06:04.857729",
     "exception": false,
     "start_time": "2024-09-12T19:06:04.718265",
     "status": "completed"
    },
    "tags": []
   },
   "outputs": [
    {
     "name": "stderr",
     "output_type": "stream",
     "text": [
      "/opt/conda/lib/python3.10/site-packages/keras/src/legacy/preprocessing/image.py:1495: UserWarning: Expected input to be images (as Numpy array) following the data format convention \"channels_last\" (channels on axis 3), i.e. expected either 1, 3 or 4 channels on axis 3. However, it was passed an array with shape (214, 128, 128, 12) (12 channels).\n",
      "  warnings.warn(\n"
     ]
    }
   ],
   "source": [
    "from tensorflow.keras.preprocessing.image import ImageDataGenerator\n",
    "\n",
    "# Initialize ImageDataGenerator with augmentations\n",
    "datagen = ImageDataGenerator(\n",
    "    horizontal_flip=True,\n",
    "    vertical_flip=True,\n",
    "    rotation_range=90,\n",
    "    zoom_range=0.2\n",
    ")\n",
    "\n",
    "datagen.fit(x_train)\n"
   ]
  },
  {
   "cell_type": "code",
   "execution_count": 6,
   "id": "90f00214",
   "metadata": {
    "execution": {
     "iopub.execute_input": "2024-09-12T19:06:04.869699Z",
     "iopub.status.busy": "2024-09-12T19:06:04.869390Z",
     "iopub.status.idle": "2024-09-12T19:06:04.873518Z",
     "shell.execute_reply": "2024-09-12T19:06:04.872695Z"
    },
    "papermill": {
     "duration": 0.01225,
     "end_time": "2024-09-12T19:06:04.875380",
     "exception": false,
     "start_time": "2024-09-12T19:06:04.863130",
     "status": "completed"
    },
    "tags": []
   },
   "outputs": [],
   "source": [
    "input_shape = (128, 128, 12)"
   ]
  },
  {
   "cell_type": "code",
   "execution_count": 7,
   "id": "0f18c8f8",
   "metadata": {
    "execution": {
     "iopub.execute_input": "2024-09-12T19:06:04.886805Z",
     "iopub.status.busy": "2024-09-12T19:06:04.886541Z",
     "iopub.status.idle": "2024-09-12T19:06:04.892769Z",
     "shell.execute_reply": "2024-09-12T19:06:04.892047Z"
    },
    "papermill": {
     "duration": 0.014019,
     "end_time": "2024-09-12T19:06:04.894644",
     "exception": false,
     "start_time": "2024-09-12T19:06:04.880625",
     "status": "completed"
    },
    "tags": []
   },
   "outputs": [],
   "source": [
    "from tensorflow.keras.callbacks import ReduceLROnPlateau\n",
    "reduce_lr = ReduceLROnPlateau(\n",
    "    monitor='val_loss', factor=0.5, patience=5, min_lr=1e-6          \n",
    ")\n"
   ]
  },
  {
   "cell_type": "markdown",
   "id": "62fd4ec1",
   "metadata": {
    "papermill": {
     "duration": 0.004961,
     "end_time": "2024-09-12T19:06:04.904815",
     "exception": false,
     "start_time": "2024-09-12T19:06:04.899854",
     "status": "completed"
    },
    "tags": []
   },
   "source": [
    "**Pretrained Model - DeepLabV3**"
   ]
  },
  {
   "cell_type": "code",
   "execution_count": 8,
   "id": "df5b7033",
   "metadata": {
    "execution": {
     "iopub.execute_input": "2024-09-12T19:06:04.916616Z",
     "iopub.status.busy": "2024-09-12T19:06:04.915878Z",
     "iopub.status.idle": "2024-09-12T19:06:04.922719Z",
     "shell.execute_reply": "2024-09-12T19:06:04.921901Z"
    },
    "papermill": {
     "duration": 0.014548,
     "end_time": "2024-09-12T19:06:04.924506",
     "exception": false,
     "start_time": "2024-09-12T19:06:04.909958",
     "status": "completed"
    },
    "tags": []
   },
   "outputs": [],
   "source": [
    "def get_deeplabv3_model(input_shape):\n",
    "    # Define the custom input layer\n",
    "    inputs = Input(shape=input_shape)  \n",
    "\n",
    "    \n",
    "    x = Conv2D(3, (1, 1), padding='same')(inputs)  \n",
    "\n",
    "    \n",
    "    base_model = tf.keras.applications.DenseNet121(\n",
    "        include_top=False,\n",
    "        weights='imagenet',  # Pre-trained weights\n",
    "        input_shape=(input_shape[0], input_shape[1], 3)\n",
    "    )\n",
    "\n",
    "    \n",
    "    x = base_model(x)\n",
    "\n",
    "    \n",
    "    x = Conv2D(256, (3, 3), padding='same', activation='relu')(x)  \n",
    "\n",
    "    \n",
    "    x = UpSampling2D(size=(32, 32))(x)  \n",
    "    x = Conv2D(1, (1, 1), activation='sigmoid')(x)  \n",
    "\n",
    "    \n",
    "    model = Model(inputs=inputs, outputs=x)\n",
    "\n",
    "    return model"
   ]
  },
  {
   "cell_type": "code",
   "execution_count": 9,
   "id": "a90bfa47",
   "metadata": {
    "execution": {
     "iopub.execute_input": "2024-09-12T19:06:04.935661Z",
     "iopub.status.busy": "2024-09-12T19:06:04.935348Z",
     "iopub.status.idle": "2024-09-12T19:06:04.939215Z",
     "shell.execute_reply": "2024-09-12T19:06:04.938331Z"
    },
    "papermill": {
     "duration": 0.011493,
     "end_time": "2024-09-12T19:06:04.941024",
     "exception": false,
     "start_time": "2024-09-12T19:06:04.929531",
     "status": "completed"
    },
    "tags": []
   },
   "outputs": [],
   "source": [
    "IMG_HEIGHT, IMG_WIDTH, IMG_CHANNELS = 128, 128, 12"
   ]
  },
  {
   "cell_type": "code",
   "execution_count": 10,
   "id": "25da0db7",
   "metadata": {
    "execution": {
     "iopub.execute_input": "2024-09-12T19:06:04.952307Z",
     "iopub.status.busy": "2024-09-12T19:06:04.952025Z",
     "iopub.status.idle": "2024-09-12T19:06:08.555846Z",
     "shell.execute_reply": "2024-09-12T19:06:08.555022Z"
    },
    "papermill": {
     "duration": 3.61207,
     "end_time": "2024-09-12T19:06:08.558226",
     "exception": false,
     "start_time": "2024-09-12T19:06:04.946156",
     "status": "completed"
    },
    "tags": []
   },
   "outputs": [
    {
     "name": "stdout",
     "output_type": "stream",
     "text": [
      "Downloading data from https://storage.googleapis.com/tensorflow/keras-applications/densenet/densenet121_weights_tf_dim_ordering_tf_kernels_notop.h5\n",
      "\u001b[1m29084464/29084464\u001b[0m \u001b[32m━━━━━━━━━━━━━━━━━━━━\u001b[0m\u001b[37m\u001b[0m \u001b[1m0s\u001b[0m 0us/step\n"
     ]
    }
   ],
   "source": [
    "pretrained_model = get_deeplabv3_model((IMG_HEIGHT, IMG_WIDTH, IMG_CHANNELS))"
   ]
  },
  {
   "cell_type": "code",
   "execution_count": 11,
   "id": "74eedcb5",
   "metadata": {
    "execution": {
     "iopub.execute_input": "2024-09-12T19:06:08.571426Z",
     "iopub.status.busy": "2024-09-12T19:06:08.571084Z",
     "iopub.status.idle": "2024-09-12T19:06:08.586266Z",
     "shell.execute_reply": "2024-09-12T19:06:08.585485Z"
    },
    "papermill": {
     "duration": 0.024011,
     "end_time": "2024-09-12T19:06:08.588300",
     "exception": false,
     "start_time": "2024-09-12T19:06:08.564289",
     "status": "completed"
    },
    "tags": []
   },
   "outputs": [],
   "source": [
    "pretrained_model.compile(optimizer='adam', loss='binary_crossentropy', metrics=['accuracy'])"
   ]
  },
  {
   "cell_type": "code",
   "execution_count": 12,
   "id": "6ff3ef01",
   "metadata": {
    "execution": {
     "iopub.execute_input": "2024-09-12T19:06:08.601520Z",
     "iopub.status.busy": "2024-09-12T19:06:08.601168Z",
     "iopub.status.idle": "2024-09-12T19:06:08.642701Z",
     "shell.execute_reply": "2024-09-12T19:06:08.641802Z"
    },
    "papermill": {
     "duration": 0.050293,
     "end_time": "2024-09-12T19:06:08.644551",
     "exception": false,
     "start_time": "2024-09-12T19:06:08.594258",
     "status": "completed"
    },
    "tags": []
   },
   "outputs": [
    {
     "data": {
      "text/html": [
       "<pre style=\"white-space:pre;overflow-x:auto;line-height:normal;font-family:Menlo,'DejaVu Sans Mono',consolas,'Courier New',monospace\"><span style=\"font-weight: bold\">Model: \"functional_1\"</span>\n",
       "</pre>\n"
      ],
      "text/plain": [
       "\u001b[1mModel: \"functional_1\"\u001b[0m\n"
      ]
     },
     "metadata": {},
     "output_type": "display_data"
    },
    {
     "data": {
      "text/html": [
       "<pre style=\"white-space:pre;overflow-x:auto;line-height:normal;font-family:Menlo,'DejaVu Sans Mono',consolas,'Courier New',monospace\">┏━━━━━━━━━━━━━━━━━━━━━━━━━━━━━━━━━┳━━━━━━━━━━━━━━━━━━━━━━━━┳━━━━━━━━━━━━━━━┓\n",
       "┃<span style=\"font-weight: bold\"> Layer (type)                    </span>┃<span style=\"font-weight: bold\"> Output Shape           </span>┃<span style=\"font-weight: bold\">       Param # </span>┃\n",
       "┡━━━━━━━━━━━━━━━━━━━━━━━━━━━━━━━━━╇━━━━━━━━━━━━━━━━━━━━━━━━╇━━━━━━━━━━━━━━━┩\n",
       "│ input_layer (<span style=\"color: #0087ff; text-decoration-color: #0087ff\">InputLayer</span>)        │ (<span style=\"color: #00d7ff; text-decoration-color: #00d7ff\">None</span>, <span style=\"color: #00af00; text-decoration-color: #00af00\">128</span>, <span style=\"color: #00af00; text-decoration-color: #00af00\">128</span>, <span style=\"color: #00af00; text-decoration-color: #00af00\">12</span>)   │             <span style=\"color: #00af00; text-decoration-color: #00af00\">0</span> │\n",
       "├─────────────────────────────────┼────────────────────────┼───────────────┤\n",
       "│ conv2d (<span style=\"color: #0087ff; text-decoration-color: #0087ff\">Conv2D</span>)                 │ (<span style=\"color: #00d7ff; text-decoration-color: #00d7ff\">None</span>, <span style=\"color: #00af00; text-decoration-color: #00af00\">128</span>, <span style=\"color: #00af00; text-decoration-color: #00af00\">128</span>, <span style=\"color: #00af00; text-decoration-color: #00af00\">3</span>)    │            <span style=\"color: #00af00; text-decoration-color: #00af00\">39</span> │\n",
       "├─────────────────────────────────┼────────────────────────┼───────────────┤\n",
       "│ densenet121 (<span style=\"color: #0087ff; text-decoration-color: #0087ff\">Functional</span>)        │ (<span style=\"color: #00d7ff; text-decoration-color: #00d7ff\">None</span>, <span style=\"color: #00af00; text-decoration-color: #00af00\">4</span>, <span style=\"color: #00af00; text-decoration-color: #00af00\">4</span>, <span style=\"color: #00af00; text-decoration-color: #00af00\">1024</span>)     │     <span style=\"color: #00af00; text-decoration-color: #00af00\">7,037,504</span> │\n",
       "├─────────────────────────────────┼────────────────────────┼───────────────┤\n",
       "│ conv2d_1 (<span style=\"color: #0087ff; text-decoration-color: #0087ff\">Conv2D</span>)               │ (<span style=\"color: #00d7ff; text-decoration-color: #00d7ff\">None</span>, <span style=\"color: #00af00; text-decoration-color: #00af00\">4</span>, <span style=\"color: #00af00; text-decoration-color: #00af00\">4</span>, <span style=\"color: #00af00; text-decoration-color: #00af00\">256</span>)      │     <span style=\"color: #00af00; text-decoration-color: #00af00\">2,359,552</span> │\n",
       "├─────────────────────────────────┼────────────────────────┼───────────────┤\n",
       "│ up_sampling2d (<span style=\"color: #0087ff; text-decoration-color: #0087ff\">UpSampling2D</span>)    │ (<span style=\"color: #00d7ff; text-decoration-color: #00d7ff\">None</span>, <span style=\"color: #00af00; text-decoration-color: #00af00\">128</span>, <span style=\"color: #00af00; text-decoration-color: #00af00\">128</span>, <span style=\"color: #00af00; text-decoration-color: #00af00\">256</span>)  │             <span style=\"color: #00af00; text-decoration-color: #00af00\">0</span> │\n",
       "├─────────────────────────────────┼────────────────────────┼───────────────┤\n",
       "│ conv2d_2 (<span style=\"color: #0087ff; text-decoration-color: #0087ff\">Conv2D</span>)               │ (<span style=\"color: #00d7ff; text-decoration-color: #00d7ff\">None</span>, <span style=\"color: #00af00; text-decoration-color: #00af00\">128</span>, <span style=\"color: #00af00; text-decoration-color: #00af00\">128</span>, <span style=\"color: #00af00; text-decoration-color: #00af00\">1</span>)    │           <span style=\"color: #00af00; text-decoration-color: #00af00\">257</span> │\n",
       "└─────────────────────────────────┴────────────────────────┴───────────────┘\n",
       "</pre>\n"
      ],
      "text/plain": [
       "┏━━━━━━━━━━━━━━━━━━━━━━━━━━━━━━━━━┳━━━━━━━━━━━━━━━━━━━━━━━━┳━━━━━━━━━━━━━━━┓\n",
       "┃\u001b[1m \u001b[0m\u001b[1mLayer (type)                   \u001b[0m\u001b[1m \u001b[0m┃\u001b[1m \u001b[0m\u001b[1mOutput Shape          \u001b[0m\u001b[1m \u001b[0m┃\u001b[1m \u001b[0m\u001b[1m      Param #\u001b[0m\u001b[1m \u001b[0m┃\n",
       "┡━━━━━━━━━━━━━━━━━━━━━━━━━━━━━━━━━╇━━━━━━━━━━━━━━━━━━━━━━━━╇━━━━━━━━━━━━━━━┩\n",
       "│ input_layer (\u001b[38;5;33mInputLayer\u001b[0m)        │ (\u001b[38;5;45mNone\u001b[0m, \u001b[38;5;34m128\u001b[0m, \u001b[38;5;34m128\u001b[0m, \u001b[38;5;34m12\u001b[0m)   │             \u001b[38;5;34m0\u001b[0m │\n",
       "├─────────────────────────────────┼────────────────────────┼───────────────┤\n",
       "│ conv2d (\u001b[38;5;33mConv2D\u001b[0m)                 │ (\u001b[38;5;45mNone\u001b[0m, \u001b[38;5;34m128\u001b[0m, \u001b[38;5;34m128\u001b[0m, \u001b[38;5;34m3\u001b[0m)    │            \u001b[38;5;34m39\u001b[0m │\n",
       "├─────────────────────────────────┼────────────────────────┼───────────────┤\n",
       "│ densenet121 (\u001b[38;5;33mFunctional\u001b[0m)        │ (\u001b[38;5;45mNone\u001b[0m, \u001b[38;5;34m4\u001b[0m, \u001b[38;5;34m4\u001b[0m, \u001b[38;5;34m1024\u001b[0m)     │     \u001b[38;5;34m7,037,504\u001b[0m │\n",
       "├─────────────────────────────────┼────────────────────────┼───────────────┤\n",
       "│ conv2d_1 (\u001b[38;5;33mConv2D\u001b[0m)               │ (\u001b[38;5;45mNone\u001b[0m, \u001b[38;5;34m4\u001b[0m, \u001b[38;5;34m4\u001b[0m, \u001b[38;5;34m256\u001b[0m)      │     \u001b[38;5;34m2,359,552\u001b[0m │\n",
       "├─────────────────────────────────┼────────────────────────┼───────────────┤\n",
       "│ up_sampling2d (\u001b[38;5;33mUpSampling2D\u001b[0m)    │ (\u001b[38;5;45mNone\u001b[0m, \u001b[38;5;34m128\u001b[0m, \u001b[38;5;34m128\u001b[0m, \u001b[38;5;34m256\u001b[0m)  │             \u001b[38;5;34m0\u001b[0m │\n",
       "├─────────────────────────────────┼────────────────────────┼───────────────┤\n",
       "│ conv2d_2 (\u001b[38;5;33mConv2D\u001b[0m)               │ (\u001b[38;5;45mNone\u001b[0m, \u001b[38;5;34m128\u001b[0m, \u001b[38;5;34m128\u001b[0m, \u001b[38;5;34m1\u001b[0m)    │           \u001b[38;5;34m257\u001b[0m │\n",
       "└─────────────────────────────────┴────────────────────────┴───────────────┘\n"
      ]
     },
     "metadata": {},
     "output_type": "display_data"
    },
    {
     "data": {
      "text/html": [
       "<pre style=\"white-space:pre;overflow-x:auto;line-height:normal;font-family:Menlo,'DejaVu Sans Mono',consolas,'Courier New',monospace\"><span style=\"font-weight: bold\"> Total params: </span><span style=\"color: #00af00; text-decoration-color: #00af00\">9,397,352</span> (35.85 MB)\n",
       "</pre>\n"
      ],
      "text/plain": [
       "\u001b[1m Total params: \u001b[0m\u001b[38;5;34m9,397,352\u001b[0m (35.85 MB)\n"
      ]
     },
     "metadata": {},
     "output_type": "display_data"
    },
    {
     "data": {
      "text/html": [
       "<pre style=\"white-space:pre;overflow-x:auto;line-height:normal;font-family:Menlo,'DejaVu Sans Mono',consolas,'Courier New',monospace\"><span style=\"font-weight: bold\"> Trainable params: </span><span style=\"color: #00af00; text-decoration-color: #00af00\">9,313,704</span> (35.53 MB)\n",
       "</pre>\n"
      ],
      "text/plain": [
       "\u001b[1m Trainable params: \u001b[0m\u001b[38;5;34m9,313,704\u001b[0m (35.53 MB)\n"
      ]
     },
     "metadata": {},
     "output_type": "display_data"
    },
    {
     "data": {
      "text/html": [
       "<pre style=\"white-space:pre;overflow-x:auto;line-height:normal;font-family:Menlo,'DejaVu Sans Mono',consolas,'Courier New',monospace\"><span style=\"font-weight: bold\"> Non-trainable params: </span><span style=\"color: #00af00; text-decoration-color: #00af00\">83,648</span> (326.75 KB)\n",
       "</pre>\n"
      ],
      "text/plain": [
       "\u001b[1m Non-trainable params: \u001b[0m\u001b[38;5;34m83,648\u001b[0m (326.75 KB)\n"
      ]
     },
     "metadata": {},
     "output_type": "display_data"
    }
   ],
   "source": [
    "pretrained_model.summary()"
   ]
  },
  {
   "cell_type": "code",
   "execution_count": 13,
   "id": "3364c94e",
   "metadata": {
    "execution": {
     "iopub.execute_input": "2024-09-12T19:06:08.659085Z",
     "iopub.status.busy": "2024-09-12T19:06:08.658516Z",
     "iopub.status.idle": "2024-09-12T19:09:51.047172Z",
     "shell.execute_reply": "2024-09-12T19:09:51.046084Z"
    },
    "papermill": {
     "duration": 222.398447,
     "end_time": "2024-09-12T19:09:51.049631",
     "exception": false,
     "start_time": "2024-09-12T19:06:08.651184",
     "status": "completed"
    },
    "tags": []
   },
   "outputs": [
    {
     "name": "stdout",
     "output_type": "stream",
     "text": [
      "Epoch 1/20\n"
     ]
    },
    {
     "name": "stderr",
     "output_type": "stream",
     "text": [
      "WARNING: All log messages before absl::InitializeLog() is called are written to STDERR\n",
      "I0000 00:00:1726168028.668294      65 service.cc:145] XLA service 0x7f006c0061a0 initialized for platform CUDA (this does not guarantee that XLA will be used). Devices:\n",
      "I0000 00:00:1726168028.668355      65 service.cc:153]   StreamExecutor device (0): Tesla P100-PCIE-16GB, Compute Capability 6.0\n",
      "WARNING: All log messages before absl::InitializeLog() is called are written to STDERR\n",
      "I0000 00:00:1726168092.823480      65 asm_compiler.cc:369] ptxas warning : Registers are spilled to local memory in function 'input_reduce_select_fusion_51', 4 bytes spill stores, 4 bytes spill loads\n",
      "ptxas warning : Registers are spilled to local memory in function 'input_reduce_select_fusion_45', 4 bytes spill stores, 4 bytes spill loads\n",
      "ptxas warning : Registers are spilled to local memory in function 'input_reduce_fusion_466', 4 bytes spill stores, 4 bytes spill loads\n",
      "\n",
      "I0000 00:00:1726168092.976265      65 device_compiler.h:188] Compiled cluster using XLA!  This line is logged at most once for the lifetime of the process.\n"
     ]
    },
    {
     "name": "stdout",
     "output_type": "stream",
     "text": [
      "\u001b[1m13/14\u001b[0m \u001b[32m━━━━━━━━━━━━━━━━━━\u001b[0m\u001b[37m━━\u001b[0m \u001b[1m0s\u001b[0m 72ms/step - accuracy: 0.6149 - loss: 2.4882"
     ]
    },
    {
     "name": "stderr",
     "output_type": "stream",
     "text": [
      "I0000 00:00:1726168152.597672      64 asm_compiler.cc:369] ptxas warning : Registers are spilled to local memory in function 'loop_slice_fusion_64', 8 bytes spill stores, 8 bytes spill loads\n",
      "\n"
     ]
    },
    {
     "name": "stdout",
     "output_type": "stream",
     "text": [
      "\u001b[1m14/14\u001b[0m \u001b[32m━━━━━━━━━━━━━━━━━━━━\u001b[0m\u001b[37m\u001b[0m \u001b[1m199s\u001b[0m 6s/step - accuracy: 0.6192 - loss: 2.3567 - val_accuracy: 0.6385 - val_loss: 0.6930 - learning_rate: 0.0010\n",
      "Epoch 2/20\n",
      "\u001b[1m14/14\u001b[0m \u001b[32m━━━━━━━━━━━━━━━━━━━━\u001b[0m\u001b[37m\u001b[0m \u001b[1m1s\u001b[0m 85ms/step - accuracy: 0.7963 - loss: 0.4745 - val_accuracy: 0.5842 - val_loss: 0.6722 - learning_rate: 0.0010\n",
      "Epoch 3/20\n",
      "\u001b[1m14/14\u001b[0m \u001b[32m━━━━━━━━━━━━━━━━━━━━\u001b[0m\u001b[37m\u001b[0m \u001b[1m1s\u001b[0m 84ms/step - accuracy: 0.8476 - loss: 0.3786 - val_accuracy: 0.7208 - val_loss: 0.5164 - learning_rate: 0.0010\n",
      "Epoch 4/20\n",
      "\u001b[1m14/14\u001b[0m \u001b[32m━━━━━━━━━━━━━━━━━━━━\u001b[0m\u001b[37m\u001b[0m \u001b[1m1s\u001b[0m 83ms/step - accuracy: 0.8474 - loss: 0.3577 - val_accuracy: 0.7715 - val_loss: 0.5054 - learning_rate: 0.0010\n",
      "Epoch 5/20\n",
      "\u001b[1m14/14\u001b[0m \u001b[32m━━━━━━━━━━━━━━━━━━━━\u001b[0m\u001b[37m\u001b[0m \u001b[1m1s\u001b[0m 85ms/step - accuracy: 0.8694 - loss: 0.3091 - val_accuracy: 0.7412 - val_loss: 0.5005 - learning_rate: 0.0010\n",
      "Epoch 6/20\n",
      "\u001b[1m14/14\u001b[0m \u001b[32m━━━━━━━━━━━━━━━━━━━━\u001b[0m\u001b[37m\u001b[0m \u001b[1m1s\u001b[0m 86ms/step - accuracy: 0.8788 - loss: 0.2916 - val_accuracy: 0.8120 - val_loss: 0.4639 - learning_rate: 0.0010\n",
      "Epoch 7/20\n",
      "\u001b[1m14/14\u001b[0m \u001b[32m━━━━━━━━━━━━━━━━━━━━\u001b[0m\u001b[37m\u001b[0m \u001b[1m1s\u001b[0m 83ms/step - accuracy: 0.8809 - loss: 0.2814 - val_accuracy: 0.8355 - val_loss: 0.4070 - learning_rate: 0.0010\n",
      "Epoch 8/20\n",
      "\u001b[1m14/14\u001b[0m \u001b[32m━━━━━━━━━━━━━━━━━━━━\u001b[0m\u001b[37m\u001b[0m \u001b[1m1s\u001b[0m 79ms/step - accuracy: 0.8912 - loss: 0.2498 - val_accuracy: 0.8517 - val_loss: 0.3410 - learning_rate: 0.0010\n",
      "Epoch 9/20\n",
      "\u001b[1m14/14\u001b[0m \u001b[32m━━━━━━━━━━━━━━━━━━━━\u001b[0m\u001b[37m\u001b[0m \u001b[1m1s\u001b[0m 84ms/step - accuracy: 0.8834 - loss: 0.2549 - val_accuracy: 0.7334 - val_loss: 0.5212 - learning_rate: 0.0010\n",
      "Epoch 10/20\n",
      "\u001b[1m14/14\u001b[0m \u001b[32m━━━━━━━━━━━━━━━━━━━━\u001b[0m\u001b[37m\u001b[0m \u001b[1m1s\u001b[0m 82ms/step - accuracy: 0.8809 - loss: 0.2717 - val_accuracy: 0.8037 - val_loss: 0.4137 - learning_rate: 0.0010\n",
      "Epoch 11/20\n",
      "\u001b[1m14/14\u001b[0m \u001b[32m━━━━━━━━━━━━━━━━━━━━\u001b[0m\u001b[37m\u001b[0m \u001b[1m1s\u001b[0m 83ms/step - accuracy: 0.8838 - loss: 0.2598 - val_accuracy: 0.8370 - val_loss: 0.3517 - learning_rate: 0.0010\n",
      "Epoch 12/20\n",
      "\u001b[1m14/14\u001b[0m \u001b[32m━━━━━━━━━━━━━━━━━━━━\u001b[0m\u001b[37m\u001b[0m \u001b[1m1s\u001b[0m 83ms/step - accuracy: 0.8940 - loss: 0.2314 - val_accuracy: 0.8584 - val_loss: 0.3276 - learning_rate: 0.0010\n",
      "Epoch 13/20\n",
      "\u001b[1m14/14\u001b[0m \u001b[32m━━━━━━━━━━━━━━━━━━━━\u001b[0m\u001b[37m\u001b[0m \u001b[1m1s\u001b[0m 82ms/step - accuracy: 0.8833 - loss: 0.2707 - val_accuracy: 0.8704 - val_loss: 0.3060 - learning_rate: 0.0010\n",
      "Epoch 14/20\n",
      "\u001b[1m14/14\u001b[0m \u001b[32m━━━━━━━━━━━━━━━━━━━━\u001b[0m\u001b[37m\u001b[0m \u001b[1m1s\u001b[0m 81ms/step - accuracy: 0.8927 - loss: 0.2348 - val_accuracy: 0.8673 - val_loss: 0.3126 - learning_rate: 0.0010\n",
      "Epoch 15/20\n",
      "\u001b[1m14/14\u001b[0m \u001b[32m━━━━━━━━━━━━━━━━━━━━\u001b[0m\u001b[37m\u001b[0m \u001b[1m1s\u001b[0m 83ms/step - accuracy: 0.8882 - loss: 0.2464 - val_accuracy: 0.8490 - val_loss: 0.4014 - learning_rate: 0.0010\n",
      "Epoch 16/20\n",
      "\u001b[1m14/14\u001b[0m \u001b[32m━━━━━━━━━━━━━━━━━━━━\u001b[0m\u001b[37m\u001b[0m \u001b[1m1s\u001b[0m 84ms/step - accuracy: 0.8939 - loss: 0.2499 - val_accuracy: 0.6991 - val_loss: 0.5565 - learning_rate: 0.0010\n",
      "Epoch 17/20\n",
      "\u001b[1m14/14\u001b[0m \u001b[32m━━━━━━━━━━━━━━━━━━━━\u001b[0m\u001b[37m\u001b[0m \u001b[1m1s\u001b[0m 82ms/step - accuracy: 0.8924 - loss: 0.2390 - val_accuracy: 0.7972 - val_loss: 0.4423 - learning_rate: 0.0010\n",
      "Epoch 18/20\n",
      "\u001b[1m14/14\u001b[0m \u001b[32m━━━━━━━━━━━━━━━━━━━━\u001b[0m\u001b[37m\u001b[0m \u001b[1m1s\u001b[0m 83ms/step - accuracy: 0.8954 - loss: 0.2241 - val_accuracy: 0.8669 - val_loss: 0.3015 - learning_rate: 0.0010\n",
      "Epoch 19/20\n",
      "\u001b[1m14/14\u001b[0m \u001b[32m━━━━━━━━━━━━━━━━━━━━\u001b[0m\u001b[37m\u001b[0m \u001b[1m1s\u001b[0m 83ms/step - accuracy: 0.9061 - loss: 0.2032 - val_accuracy: 0.8742 - val_loss: 0.2704 - learning_rate: 0.0010\n",
      "Epoch 20/20\n",
      "\u001b[1m14/14\u001b[0m \u001b[32m━━━━━━━━━━━━━━━━━━━━\u001b[0m\u001b[37m\u001b[0m \u001b[1m1s\u001b[0m 81ms/step - accuracy: 0.9027 - loss: 0.2081 - val_accuracy: 0.8759 - val_loss: 0.2678 - learning_rate: 0.0010\n"
     ]
    }
   ],
   "source": [
    "pretrained_history = pretrained_model.fit(x_train, y_train, batch_size=16, epochs=20, validation_data=(x_test, y_test),callbacks=[reduce_lr])"
   ]
  },
  {
   "cell_type": "code",
   "execution_count": 14,
   "id": "471238e5",
   "metadata": {
    "execution": {
     "iopub.execute_input": "2024-09-12T19:09:51.116331Z",
     "iopub.status.busy": "2024-09-12T19:09:51.115406Z",
     "iopub.status.idle": "2024-09-12T19:09:51.678416Z",
     "shell.execute_reply": "2024-09-12T19:09:51.677510Z"
    },
    "papermill": {
     "duration": 0.598474,
     "end_time": "2024-09-12T19:09:51.680740",
     "exception": false,
     "start_time": "2024-09-12T19:09:51.082266",
     "status": "completed"
    },
    "tags": []
   },
   "outputs": [
    {
     "data": {
      "image/png": "[encoded data removed]",
      "text/plain": [
       "<Figure size 1200x500 with 2 Axes>"
      ]
     },
     "metadata": {},
     "output_type": "display_data"
    }
   ],
   "source": [
    "loss_acc_metrics_df = pd.DataFrame(pretrained_history.history)\n",
    "\n",
    "# Plot training and validation loss\n",
    "plt.figure(figsize=(12, 5))\n",
    "plt.subplot(1, 2, 1)\n",
    "plt.plot(loss_acc_metrics_df['loss'], label='Training Loss')\n",
    "plt.plot(loss_acc_metrics_df['val_loss'], label='Validation Loss')\n",
    "plt.xlabel('Epochs')\n",
    "plt.ylabel('Loss')\n",
    "plt.title('Training and Validation Loss')\n",
    "plt.legend()\n",
    "\n",
    "# Plot training and validation accuracy\n",
    "plt.subplot(1, 2, 2)\n",
    "plt.plot(loss_acc_metrics_df['accuracy'], label='Training Accuracy')\n",
    "plt.plot(loss_acc_metrics_df['val_accuracy'], label='Validation Accuracy')\n",
    "plt.xlabel('Epochs')\n",
    "plt.ylabel('Accuracy')\n",
    "plt.title('Training and Validation Accuracy')\n",
    "plt.legend()\n",
    "\n",
    "plt.show()"
   ]
  },
  {
   "cell_type": "code",
   "execution_count": 15,
   "id": "589983b7",
   "metadata": {
    "execution": {
     "iopub.execute_input": "2024-09-12T19:09:51.747618Z",
     "iopub.status.busy": "2024-09-12T19:09:51.747214Z",
     "iopub.status.idle": "2024-09-12T19:10:12.473707Z",
     "shell.execute_reply": "2024-09-12T19:10:12.472604Z"
    },
    "papermill": {
     "duration": 20.762384,
     "end_time": "2024-09-12T19:10:12.475888",
     "exception": false,
     "start_time": "2024-09-12T19:09:51.713504",
     "status": "completed"
    },
    "tags": []
   },
   "outputs": [
    {
     "name": "stdout",
     "output_type": "stream",
     "text": [
      "\u001b[1m3/3\u001b[0m \u001b[32m━━━━━━━━━━━━━━━━━━━━\u001b[0m\u001b[37m\u001b[0m \u001b[1m17s\u001b[0m 4s/step - accuracy: 0.8744 - loss: 0.2735\n",
      "Test Loss: 0.26776671409606934\n",
      "Test Accuracy: 0.8759267926216125\n"
     ]
    }
   ],
   "source": [
    "loss, accuracy = pretrained_model.evaluate(x_test, y_test)\n",
    "print(f\"Test Loss: {loss}\")\n",
    "print(f\"Test Accuracy: {accuracy}\")"
   ]
  },
  {
   "cell_type": "code",
   "execution_count": null,
   "id": "3a7014e2",
   "metadata": {
    "papermill": {
     "duration": 0.03209,
     "end_time": "2024-09-12T19:10:12.541369",
     "exception": false,
     "start_time": "2024-09-12T19:10:12.509279",
     "status": "completed"
    },
    "tags": []
   },
   "outputs": [],
   "source": []
  }
 ],
 "metadata": {
  "kaggle": {
   "accelerator": "gpu",
   "dataSources": [
    {
     "datasetId": 5651475,
     "sourceId": 9328045,
     "sourceType": "datasetVersion"
    }
   ],
   "dockerImageVersionId": 30762,
   "isGpuEnabled": true,
   "isInternetEnabled": true,
   "language": "python",
   "sourceType": "notebook"
  },
  "kernelspec": {
   "display_name": "Python 3",
   "language": "python",
   "name": "python3"
  },
  "language_info": {
   "codemirror_mode": {
    "name": "ipython",
    "version": 3
   },
   "file_extension": ".py",
   "mimetype": "text/x-python",
   "name": "python",
   "nbconvert_exporter": "python",
   "pygments_lexer": "ipython3",
   "version": "3.10.14"
  },
  "papermill": {
   "default_parameters": {},
   "duration": 274.8744,
   "end_time": "2024-09-12T19:10:15.565036",
   "environment_variables": {},
   "exception": null,
   "input_path": "__notebook__.ipynb",
   "output_path": "__notebook__.ipynb",
   "parameters": {},
   "start_time": "2024-09-12T19:05:40.690636",
   "version": "2.6.0"
  }
 },
 "nbformat": 4,
 "nbformat_minor": 5
}
